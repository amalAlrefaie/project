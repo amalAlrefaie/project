{
 "cells": [
  {
   "cell_type": "code",
   "execution_count": 23,
   "id": "6e8cf975",
   "metadata": {},
   "outputs": [],
   "source": [
    "\n",
    "# Import all libraries needed \n",
    "import pandas as pd # data processing, CSV file - Dataframe\n",
    "import numpy as np # linear algebra - Arraies\n",
    "import matplotlib.pyplot as plt # plotting - Visualization \n",
    "import seaborn as sns # Visualization \n",
    "from datetime import datetime\n",
    "%matplotlib inline\n",
    "from sklearn.linear_model import LogisticRegression\n",
    "from sklearn.model_selection import train_test_split\n",
    "import warnings\n",
    "warnings.filterwarnings('ignore')\n",
    "from sklearn.linear_model import LogisticRegression\n",
    "from sklearn.metrics import accuracy_score\n",
    "from sklearn.metrics import classification_report\n",
    "\n",
    "\n"
   ]
  },
  {
   "cell_type": "code",
   "execution_count": 2,
   "id": "28c0abac",
   "metadata": {},
   "outputs": [],
   "source": [
    "cve = pd.read_csv('cve.csv') #read data "
   ]
  },
  {
   "cell_type": "code",
   "execution_count": null,
   "id": "c3ef8d85",
   "metadata": {},
   "outputs": [],
   "source": []
  },
  {
   "cell_type": "code",
   "execution_count": 3,
   "id": "05dbd51f",
   "metadata": {},
   "outputs": [
    {
     "data": {
      "text/html": [
       "<div>\n",
       "<style scoped>\n",
       "    .dataframe tbody tr th:only-of-type {\n",
       "        vertical-align: middle;\n",
       "    }\n",
       "\n",
       "    .dataframe tbody tr th {\n",
       "        vertical-align: top;\n",
       "    }\n",
       "\n",
       "    .dataframe thead th {\n",
       "        text-align: right;\n",
       "    }\n",
       "</style>\n",
       "<table border=\"1\" class=\"dataframe\">\n",
       "  <thead>\n",
       "    <tr style=\"text-align: right;\">\n",
       "      <th></th>\n",
       "      <th>Unnamed: 0</th>\n",
       "      <th>mod_date</th>\n",
       "      <th>pub_date</th>\n",
       "      <th>cvss</th>\n",
       "      <th>cwe_code</th>\n",
       "      <th>cwe_name</th>\n",
       "      <th>summary</th>\n",
       "      <th>access_authentication</th>\n",
       "      <th>access_complexity</th>\n",
       "      <th>access_vector</th>\n",
       "      <th>impact_availability</th>\n",
       "      <th>impact_confidentiality</th>\n",
       "      <th>impact_integrity</th>\n",
       "    </tr>\n",
       "  </thead>\n",
       "  <tbody>\n",
       "    <tr>\n",
       "      <th>0</th>\n",
       "      <td>CVE-2019-16548</td>\n",
       "      <td>2019-11-21 15:15:00</td>\n",
       "      <td>2019-11-21 15:15:00</td>\n",
       "      <td>6.8</td>\n",
       "      <td>352</td>\n",
       "      <td>Cross-Site Request Forgery (CSRF)</td>\n",
       "      <td>A cross-site request forgery vulnerability in ...</td>\n",
       "      <td>NaN</td>\n",
       "      <td>NaN</td>\n",
       "      <td>NaN</td>\n",
       "      <td>NaN</td>\n",
       "      <td>NaN</td>\n",
       "      <td>NaN</td>\n",
       "    </tr>\n",
       "    <tr>\n",
       "      <th>1</th>\n",
       "      <td>CVE-2019-16547</td>\n",
       "      <td>2019-11-21 15:15:00</td>\n",
       "      <td>2019-11-21 15:15:00</td>\n",
       "      <td>4.0</td>\n",
       "      <td>732</td>\n",
       "      <td>Incorrect Permission Assignment for Critical ...</td>\n",
       "      <td>Missing permission checks in various API endpo...</td>\n",
       "      <td>NaN</td>\n",
       "      <td>NaN</td>\n",
       "      <td>NaN</td>\n",
       "      <td>NaN</td>\n",
       "      <td>NaN</td>\n",
       "      <td>NaN</td>\n",
       "    </tr>\n",
       "    <tr>\n",
       "      <th>2</th>\n",
       "      <td>CVE-2019-16546</td>\n",
       "      <td>2019-11-21 15:15:00</td>\n",
       "      <td>2019-11-21 15:15:00</td>\n",
       "      <td>4.3</td>\n",
       "      <td>639</td>\n",
       "      <td>Authorization Bypass Through User-Controlled Key</td>\n",
       "      <td>Jenkins Google Compute Engine Plugin 4.1.1 and...</td>\n",
       "      <td>NaN</td>\n",
       "      <td>NaN</td>\n",
       "      <td>NaN</td>\n",
       "      <td>NaN</td>\n",
       "      <td>NaN</td>\n",
       "      <td>NaN</td>\n",
       "    </tr>\n",
       "    <tr>\n",
       "      <th>3</th>\n",
       "      <td>CVE-2013-2092</td>\n",
       "      <td>2019-11-20 21:22:00</td>\n",
       "      <td>2019-11-20 21:15:00</td>\n",
       "      <td>4.3</td>\n",
       "      <td>79</td>\n",
       "      <td>Improper Neutralization of Input During Web P...</td>\n",
       "      <td>Cross-site Scripting (XSS) in Dolibarr ERP/CRM...</td>\n",
       "      <td>NaN</td>\n",
       "      <td>NaN</td>\n",
       "      <td>NaN</td>\n",
       "      <td>NaN</td>\n",
       "      <td>NaN</td>\n",
       "      <td>NaN</td>\n",
       "    </tr>\n",
       "    <tr>\n",
       "      <th>4</th>\n",
       "      <td>CVE-2013-2091</td>\n",
       "      <td>2019-11-20 20:15:00</td>\n",
       "      <td>2019-11-20 20:15:00</td>\n",
       "      <td>7.5</td>\n",
       "      <td>89</td>\n",
       "      <td>Improper Neutralization of Special Elements u...</td>\n",
       "      <td>SQL injection vulnerability in Dolibarr ERP/CR...</td>\n",
       "      <td>NaN</td>\n",
       "      <td>NaN</td>\n",
       "      <td>NaN</td>\n",
       "      <td>NaN</td>\n",
       "      <td>NaN</td>\n",
       "      <td>NaN</td>\n",
       "    </tr>\n",
       "  </tbody>\n",
       "</table>\n",
       "</div>"
      ],
      "text/plain": [
       "       Unnamed: 0             mod_date             pub_date  cvss  cwe_code  \\\n",
       "0  CVE-2019-16548  2019-11-21 15:15:00  2019-11-21 15:15:00   6.8       352   \n",
       "1  CVE-2019-16547  2019-11-21 15:15:00  2019-11-21 15:15:00   4.0       732   \n",
       "2  CVE-2019-16546  2019-11-21 15:15:00  2019-11-21 15:15:00   4.3       639   \n",
       "3   CVE-2013-2092  2019-11-20 21:22:00  2019-11-20 21:15:00   4.3        79   \n",
       "4   CVE-2013-2091  2019-11-20 20:15:00  2019-11-20 20:15:00   7.5        89   \n",
       "\n",
       "                                            cwe_name  \\\n",
       "0                  Cross-Site Request Forgery (CSRF)   \n",
       "1   Incorrect Permission Assignment for Critical ...   \n",
       "2   Authorization Bypass Through User-Controlled Key   \n",
       "3   Improper Neutralization of Input During Web P...   \n",
       "4   Improper Neutralization of Special Elements u...   \n",
       "\n",
       "                                             summary access_authentication  \\\n",
       "0  A cross-site request forgery vulnerability in ...                   NaN   \n",
       "1  Missing permission checks in various API endpo...                   NaN   \n",
       "2  Jenkins Google Compute Engine Plugin 4.1.1 and...                   NaN   \n",
       "3  Cross-site Scripting (XSS) in Dolibarr ERP/CRM...                   NaN   \n",
       "4  SQL injection vulnerability in Dolibarr ERP/CR...                   NaN   \n",
       "\n",
       "  access_complexity access_vector impact_availability impact_confidentiality  \\\n",
       "0               NaN           NaN                 NaN                    NaN   \n",
       "1               NaN           NaN                 NaN                    NaN   \n",
       "2               NaN           NaN                 NaN                    NaN   \n",
       "3               NaN           NaN                 NaN                    NaN   \n",
       "4               NaN           NaN                 NaN                    NaN   \n",
       "\n",
       "  impact_integrity  \n",
       "0              NaN  \n",
       "1              NaN  \n",
       "2              NaN  \n",
       "3              NaN  \n",
       "4              NaN  "
      ]
     },
     "execution_count": 3,
     "metadata": {},
     "output_type": "execute_result"
    }
   ],
   "source": [
    "cve.head() # Shows the first 5 rows of data"
   ]
  },
  {
   "cell_type": "code",
   "execution_count": 4,
   "id": "1551621a",
   "metadata": {},
   "outputs": [
    {
     "name": "stdout",
     "output_type": "stream",
     "text": [
      "<class 'pandas.core.frame.DataFrame'>\n",
      "RangeIndex: 89660 entries, 0 to 89659\n",
      "Data columns (total 13 columns):\n",
      " #   Column                  Non-Null Count  Dtype  \n",
      "---  ------                  --------------  -----  \n",
      " 0   Unnamed: 0              89660 non-null  object \n",
      " 1   mod_date                89660 non-null  object \n",
      " 2   pub_date                89660 non-null  object \n",
      " 3   cvss                    89660 non-null  float64\n",
      " 4   cwe_code                89660 non-null  int64  \n",
      " 5   cwe_name                89660 non-null  object \n",
      " 6   summary                 89660 non-null  object \n",
      " 7   access_authentication   88776 non-null  object \n",
      " 8   access_complexity       88776 non-null  object \n",
      " 9   access_vector           88776 non-null  object \n",
      " 10  impact_availability     88776 non-null  object \n",
      " 11  impact_confidentiality  88776 non-null  object \n",
      " 12  impact_integrity        88776 non-null  object \n",
      "dtypes: float64(1), int64(1), object(11)\n",
      "memory usage: 8.9+ MB\n"
     ]
    }
   ],
   "source": [
    "cve.info() # explain data"
   ]
  },
  {
   "cell_type": "code",
   "execution_count": null,
   "id": "4e51eace",
   "metadata": {},
   "outputs": [],
   "source": []
  },
  {
   "cell_type": "code",
   "execution_count": 5,
   "id": "43bb80ec",
   "metadata": {},
   "outputs": [
    {
     "data": {
      "text/plain": [
       "Unnamed: 0                 object\n",
       "mod_date                   object\n",
       "pub_date                   object\n",
       "cvss                      float64\n",
       "cwe_code                    int64\n",
       "cwe_name                   object\n",
       "summary                    object\n",
       "access_authentication      object\n",
       "access_complexity          object\n",
       "access_vector              object\n",
       "impact_availability        object\n",
       "impact_confidentiality     object\n",
       "impact_integrity           object\n",
       "dtype: object"
      ]
     },
     "execution_count": 5,
     "metadata": {},
     "output_type": "execute_result"
    }
   ],
   "source": [
    "cve.dtypes #check type"
   ]
  },
  {
   "cell_type": "code",
   "execution_count": 6,
   "id": "4dfb7d09",
   "metadata": {},
   "outputs": [
    {
     "data": {
      "text/plain": [
       "0"
      ]
     },
     "execution_count": 6,
     "metadata": {},
     "output_type": "execute_result"
    }
   ],
   "source": [
    "# Check Duplicates\n",
    "cve.duplicated().sum()"
   ]
  },
  {
   "cell_type": "code",
   "execution_count": 7,
   "id": "89b3b44d",
   "metadata": {},
   "outputs": [
    {
     "data": {
      "text/html": [
       "<div>\n",
       "<style scoped>\n",
       "    .dataframe tbody tr th:only-of-type {\n",
       "        vertical-align: middle;\n",
       "    }\n",
       "\n",
       "    .dataframe tbody tr th {\n",
       "        vertical-align: top;\n",
       "    }\n",
       "\n",
       "    .dataframe thead th {\n",
       "        text-align: right;\n",
       "    }\n",
       "</style>\n",
       "<table border=\"1\" class=\"dataframe\">\n",
       "  <thead>\n",
       "    <tr style=\"text-align: right;\">\n",
       "      <th></th>\n",
       "      <th>cvss</th>\n",
       "      <th>cwe_code</th>\n",
       "    </tr>\n",
       "  </thead>\n",
       "  <tbody>\n",
       "    <tr>\n",
       "      <th>count</th>\n",
       "      <td>89660.000000</td>\n",
       "      <td>89660.000000</td>\n",
       "    </tr>\n",
       "    <tr>\n",
       "      <th>mean</th>\n",
       "      <td>6.021429</td>\n",
       "      <td>199.690854</td>\n",
       "    </tr>\n",
       "    <tr>\n",
       "      <th>std</th>\n",
       "      <td>1.994757</td>\n",
       "      <td>176.177244</td>\n",
       "    </tr>\n",
       "    <tr>\n",
       "      <th>min</th>\n",
       "      <td>0.000000</td>\n",
       "      <td>1.000000</td>\n",
       "    </tr>\n",
       "    <tr>\n",
       "      <th>25%</th>\n",
       "      <td>4.300000</td>\n",
       "      <td>79.000000</td>\n",
       "    </tr>\n",
       "    <tr>\n",
       "      <th>50%</th>\n",
       "      <td>5.800000</td>\n",
       "      <td>119.000000</td>\n",
       "    </tr>\n",
       "    <tr>\n",
       "      <th>75%</th>\n",
       "      <td>7.500000</td>\n",
       "      <td>284.000000</td>\n",
       "    </tr>\n",
       "    <tr>\n",
       "      <th>max</th>\n",
       "      <td>10.000000</td>\n",
       "      <td>1188.000000</td>\n",
       "    </tr>\n",
       "  </tbody>\n",
       "</table>\n",
       "</div>"
      ],
      "text/plain": [
       "               cvss      cwe_code\n",
       "count  89660.000000  89660.000000\n",
       "mean       6.021429    199.690854\n",
       "std        1.994757    176.177244\n",
       "min        0.000000      1.000000\n",
       "25%        4.300000     79.000000\n",
       "50%        5.800000    119.000000\n",
       "75%        7.500000    284.000000\n",
       "max       10.000000   1188.000000"
      ]
     },
     "execution_count": 7,
     "metadata": {},
     "output_type": "execute_result"
    }
   ],
   "source": [
    "cve.describe() #Get statistical data "
   ]
  },
  {
   "cell_type": "code",
   "execution_count": null,
   "id": "a63b3c00",
   "metadata": {},
   "outputs": [],
   "source": []
  },
  {
   "cell_type": "code",
   "execution_count": 9,
   "id": "67f5f1a7",
   "metadata": {},
   "outputs": [
    {
     "data": {
      "image/png": "[encoded data removed]",
      "text/plain": [
       "<Figure size 432x288 with 2 Axes>"
      ]
     },
     "metadata": {
      "needs_background": "light"
     },
     "output_type": "display_data"
    }
   ],
   "source": [
    "sns.heatmap(cve.isnull(), cmap=\"BuGn_r\")\n",
    "plt.show() #see null vlaue"
   ]
  },
  {
   "cell_type": "code",
   "execution_count": null,
   "id": "97175b07",
   "metadata": {},
   "outputs": [],
   "source": []
  },
  {
   "cell_type": "code",
   "execution_count": 10,
   "id": "9f4483f7",
   "metadata": {},
   "outputs": [],
   "source": [
    "cve.dropna(axis=0, how='any', thresh=None, subset=None, inplace=True) "
   ]
  },
  {
   "cell_type": "code",
   "execution_count": 11,
   "id": "8506dbf6",
   "metadata": {},
   "outputs": [],
   "source": [
    "obj_types = ['access_authentication', 'access_complexity', 'access_vector', 'impact_availability', 'impact_confidentiality', 'impact_integrity']"
   ]
  },
  {
   "cell_type": "code",
   "execution_count": 12,
   "id": "52560386",
   "metadata": {},
   "outputs": [],
   "source": [
    "#s=pd.get_dummies(obj_types)"
   ]
  },
  {
   "cell_type": "code",
   "execution_count": 13,
   "id": "c29aff46",
   "metadata": {},
   "outputs": [],
   "source": [
    "#s.head()"
   ]
  },
  {
   "cell_type": "code",
   "execution_count": 14,
   "id": "ffe46fa0",
   "metadata": {},
   "outputs": [],
   "source": [
    "def transform_to_int(train, obj_types):\n",
    "    #Assign dictionaries with current values and replacements for each column\n",
    "    d_aa = {'NONE':0, 'SINGLE':1, 'MULTIPLE':2}\n",
    "    d_ac = {'LOW':0, 'MEDIUM':1, 'HIGH':2}\n",
    "    d_av = {'LOCAL':0, 'NETWORK':1, 'ADJACENT_NETWORK':2}\n",
    "    d_ia = {'NONE':0, 'PARTIAL':1, 'COMPLETE':2}\n",
    "    d_ic = {'NONE':0, 'PARTIAL':1, 'COMPLETE':2}\n",
    "    d_ii = {'NONE':0, 'PARTIAL':1, 'COMPLETE':2}\n",
    "    #Each positional index in replacements corresponds to the column in obj_types\n",
    "    replacements = [d_aa, d_ac, d_av, d_ia, d_ic, d_ii]\n",
    "\n",
    "    #Replace using lambda Series.map(lambda)\n",
    "    for i,col in enumerate(obj_types):\n",
    "        train[col] = train[col].map(lambda a: replacements[i][a]).astype('int64')"
   ]
  },
  {
   "cell_type": "code",
   "execution_count": 15,
   "id": "d1fefd2a",
   "metadata": {},
   "outputs": [],
   "source": [
    "transform_to_int(cve, obj_types)"
   ]
  },
  {
   "cell_type": "code",
   "execution_count": 16,
   "id": "cc50d595",
   "metadata": {},
   "outputs": [
    {
     "data": {
      "text/html": [
       "<div>\n",
       "<style scoped>\n",
       "    .dataframe tbody tr th:only-of-type {\n",
       "        vertical-align: middle;\n",
       "    }\n",
       "\n",
       "    .dataframe tbody tr th {\n",
       "        vertical-align: top;\n",
       "    }\n",
       "\n",
       "    .dataframe thead th {\n",
       "        text-align: right;\n",
       "    }\n",
       "</style>\n",
       "<table border=\"1\" class=\"dataframe\">\n",
       "  <thead>\n",
       "    <tr style=\"text-align: right;\">\n",
       "      <th></th>\n",
       "      <th>Unnamed: 0</th>\n",
       "      <th>mod_date</th>\n",
       "      <th>pub_date</th>\n",
       "      <th>cvss</th>\n",
       "      <th>cwe_code</th>\n",
       "      <th>cwe_name</th>\n",
       "      <th>summary</th>\n",
       "      <th>access_authentication</th>\n",
       "      <th>access_complexity</th>\n",
       "      <th>access_vector</th>\n",
       "      <th>impact_availability</th>\n",
       "      <th>impact_confidentiality</th>\n",
       "      <th>impact_integrity</th>\n",
       "    </tr>\n",
       "  </thead>\n",
       "  <tbody>\n",
       "    <tr>\n",
       "      <th>138</th>\n",
       "      <td>CVE-2019-2211</td>\n",
       "      <td>2019-11-14 21:36:00</td>\n",
       "      <td>2019-11-13 18:15:00</td>\n",
       "      <td>7.8</td>\n",
       "      <td>89</td>\n",
       "      <td>Improper Neutralization of Special Elements u...</td>\n",
       "      <td>In createProjectionMapForQuery of TvProvider.j...</td>\n",
       "      <td>0</td>\n",
       "      <td>0</td>\n",
       "      <td>1</td>\n",
       "      <td>0</td>\n",
       "      <td>2</td>\n",
       "      <td>0</td>\n",
       "    </tr>\n",
       "    <tr>\n",
       "      <th>139</th>\n",
       "      <td>CVE-2019-2212</td>\n",
       "      <td>2019-11-14 21:30:00</td>\n",
       "      <td>2019-11-13 18:15:00</td>\n",
       "      <td>4.9</td>\n",
       "      <td>200</td>\n",
       "      <td>Information Exposure</td>\n",
       "      <td>In poisson_distribution of random, there is an...</td>\n",
       "      <td>0</td>\n",
       "      <td>0</td>\n",
       "      <td>0</td>\n",
       "      <td>0</td>\n",
       "      <td>2</td>\n",
       "      <td>0</td>\n",
       "    </tr>\n",
       "    <tr>\n",
       "      <th>140</th>\n",
       "      <td>CVE-2019-2213</td>\n",
       "      <td>2019-11-14 21:24:00</td>\n",
       "      <td>2019-11-13 18:15:00</td>\n",
       "      <td>6.9</td>\n",
       "      <td>416</td>\n",
       "      <td>Use After Free</td>\n",
       "      <td>In binder_free_transaction of binder.c, there ...</td>\n",
       "      <td>0</td>\n",
       "      <td>1</td>\n",
       "      <td>0</td>\n",
       "      <td>2</td>\n",
       "      <td>2</td>\n",
       "      <td>2</td>\n",
       "    </tr>\n",
       "    <tr>\n",
       "      <th>149</th>\n",
       "      <td>CVE-2019-2214</td>\n",
       "      <td>2019-11-14 21:19:00</td>\n",
       "      <td>2019-11-13 18:15:00</td>\n",
       "      <td>7.2</td>\n",
       "      <td>269</td>\n",
       "      <td>Improper Privilege Management</td>\n",
       "      <td>In binder_transaction of binder.c, there is a ...</td>\n",
       "      <td>0</td>\n",
       "      <td>0</td>\n",
       "      <td>0</td>\n",
       "      <td>2</td>\n",
       "      <td>2</td>\n",
       "      <td>2</td>\n",
       "    </tr>\n",
       "    <tr>\n",
       "      <th>150</th>\n",
       "      <td>CVE-2019-18793</td>\n",
       "      <td>2019-11-14 21:14:00</td>\n",
       "      <td>2019-11-13 20:15:00</td>\n",
       "      <td>4.3</td>\n",
       "      <td>79</td>\n",
       "      <td>Improper Neutralization of Input During Web P...</td>\n",
       "      <td>Parallels Plesk Panel 9.5 allows XSS in target...</td>\n",
       "      <td>0</td>\n",
       "      <td>1</td>\n",
       "      <td>1</td>\n",
       "      <td>0</td>\n",
       "      <td>0</td>\n",
       "      <td>1</td>\n",
       "    </tr>\n",
       "  </tbody>\n",
       "</table>\n",
       "</div>"
      ],
      "text/plain": [
       "         Unnamed: 0             mod_date             pub_date  cvss  cwe_code  \\\n",
       "138   CVE-2019-2211  2019-11-14 21:36:00  2019-11-13 18:15:00   7.8        89   \n",
       "139   CVE-2019-2212  2019-11-14 21:30:00  2019-11-13 18:15:00   4.9       200   \n",
       "140   CVE-2019-2213  2019-11-14 21:24:00  2019-11-13 18:15:00   6.9       416   \n",
       "149   CVE-2019-2214  2019-11-14 21:19:00  2019-11-13 18:15:00   7.2       269   \n",
       "150  CVE-2019-18793  2019-11-14 21:14:00  2019-11-13 20:15:00   4.3        79   \n",
       "\n",
       "                                              cwe_name  \\\n",
       "138   Improper Neutralization of Special Elements u...   \n",
       "139                               Information Exposure   \n",
       "140                                     Use After Free   \n",
       "149                      Improper Privilege Management   \n",
       "150   Improper Neutralization of Input During Web P...   \n",
       "\n",
       "                                               summary  access_authentication  \\\n",
       "138  In createProjectionMapForQuery of TvProvider.j...                      0   \n",
       "139  In poisson_distribution of random, there is an...                      0   \n",
       "140  In binder_free_transaction of binder.c, there ...                      0   \n",
       "149  In binder_transaction of binder.c, there is a ...                      0   \n",
       "150  Parallels Plesk Panel 9.5 allows XSS in target...                      0   \n",
       "\n",
       "     access_complexity  access_vector  impact_availability  \\\n",
       "138                  0              1                    0   \n",
       "139                  0              0                    0   \n",
       "140                  1              0                    2   \n",
       "149                  0              0                    2   \n",
       "150                  1              1                    0   \n",
       "\n",
       "     impact_confidentiality  impact_integrity  \n",
       "138                       2                 0  \n",
       "139                       2                 0  \n",
       "140                       2                 2  \n",
       "149                       2                 2  \n",
       "150                       0                 1  "
      ]
     },
     "execution_count": 16,
     "metadata": {},
     "output_type": "execute_result"
    }
   ],
   "source": [
    "cve.head()"
   ]
  },
  {
   "cell_type": "code",
   "execution_count": 17,
   "id": "b1b02538",
   "metadata": {},
   "outputs": [
    {
     "data": {
      "image/png": "[encoded data removed]",
      "text/plain": [
       "<Figure size 432x288 with 2 Axes>"
      ]
     },
     "metadata": {
      "needs_background": "light"
     },
     "output_type": "display_data"
    }
   ],
   "source": [
    "correlation_matrix = cve.corr()\n",
    "sns.heatmap(correlation_matrix, annot=True, cmap=\"RdBu_r\")\n",
    "plt.show()"
   ]
  },
  {
   "cell_type": "markdown",
   "id": "b00f57c1",
   "metadata": {},
   "source": [
    "Interestingly there seems to be a relatively strong correlation between the cvss and the impact on the availability, confidentiality or integrity,which was also to be expected."
   ]
  },
  {
   "cell_type": "code",
   "execution_count": 19,
   "id": "78ef9460",
   "metadata": {},
   "outputs": [],
   "source": [
    "feature = cve['cvss']\n",
    "target = cve['impact_availability']\n",
    "\n",
    "X_train, X_test, Y_train, Y_test = train_test_split(feature, target, test_size =.2, random_state=100)\n",
    "X_train = X_train.values.reshape(-1,1)\n",
    "Y_train = Y_train.values.reshape(-1,1)"
   ]
  },
  {
   "cell_type": "code",
   "execution_count": 22,
   "id": "61ae1b44",
   "metadata": {},
   "outputs": [
    {
     "name": "stdout",
     "output_type": "stream",
     "text": [
      "Accuracy score is 0.78\n",
      "              precision    recall  f1-score   support\n",
      "\n",
      "           0       0.73      0.93      0.82     25924\n",
      "           1       0.77      0.71      0.74     28876\n",
      "           2       0.98      0.67      0.80     16220\n",
      "\n",
      "    accuracy                           0.78     71020\n",
      "   macro avg       0.82      0.77      0.78     71020\n",
      "weighted avg       0.80      0.78      0.78     71020\n",
      "\n",
      "[[24150  1526   248]\n",
      " [ 8385 20466    25]\n",
      " [  629  4677 10914]]\n"
     ]
    }
   ],
   "source": [
    "LR =LogisticRegression(random_state=100)\n",
    "LR.fit(X_train,Y_train)\n",
    "prediction = LR.predict(X_train)\n",
    "\n",
    "print(f\"Accuracy score is {accuracy_score(Y_train, prediction):.2f}\")\n",
    "print(classification_report(Y_train, prediction))\n",
    "\n",
    "from sklearn.metrics import confusion_matrix\n",
    "print(confusion_matrix(Y_train, prediction))\n"
   ]
  },
  {
   "cell_type": "code",
   "execution_count": 21,
   "id": "5024d8eb",
   "metadata": {},
   "outputs": [
    {
     "data": {
      "image/png": "[encoded data removed]",
      "text/plain": [
       "<Figure size 432x288 with 2 Axes>"
      ]
     },
     "metadata": {
      "needs_background": "light"
     },
     "output_type": "display_data"
    }
   ],
   "source": [
    "import seaborn as sns\n",
    "import matplotlib.pyplot as plt \n",
    " \n",
    "# load the tips dataset\n",
    "dataset = confusion_matrix(Y_train, prediction)\n",
    "sns.heatmap(dataset, annot = True,\n",
    "          cmap=\"RdBu_r\")\n",
    "plt.show()"
   ]
  },
  {
   "cell_type": "code",
   "execution_count": null,
   "id": "99780583",
   "metadata": {},
   "outputs": [],
   "source": [
    "feature = cve['cvss']\n",
    "target = cve['impact_confidentiality']\n",
    "\n",
    "X_train, X_test, Y_train, Y_test = train_test_split(feature, target, test_size =.2, random_state=100)\n",
    "X_train = X_train.values.reshape(-1,1)\n",
    "Y_train = Y_train.values.reshape(-1,1)"
   ]
  },
  {
   "cell_type": "code",
   "execution_count": 24,
   "id": "4e468aa7",
   "metadata": {},
   "outputs": [
    {
     "name": "stdout",
     "output_type": "stream",
     "text": [
      "Accuracy score is 0.78\n",
      "              precision    recall  f1-score   support\n",
      "\n",
      "           0       0.73      0.93      0.82     25924\n",
      "           1       0.77      0.71      0.74     28876\n",
      "           2       0.98      0.67      0.80     16220\n",
      "\n",
      "    accuracy                           0.78     71020\n",
      "   macro avg       0.82      0.77      0.78     71020\n",
      "weighted avg       0.80      0.78      0.78     71020\n",
      "\n",
      "[[24150  1526   248]\n",
      " [ 8385 20466    25]\n",
      " [  629  4677 10914]]\n"
     ]
    }
   ],
   "source": [
    "LR =LogisticRegression(random_state=100)\n",
    "LR.fit(X_train,Y_train)\n",
    "prediction = LR.predict(X_train)\n",
    "\n",
    "print(f\"Accuracy score is {accuracy_score(Y_train, prediction):.2f}\")\n",
    "print(classification_report(Y_train, prediction))\n",
    "\n",
    "from sklearn.metrics import confusion_matrix\n",
    "print(confusion_matrix(Y_train, prediction))\n"
   ]
  },
  {
   "cell_type": "code",
   "execution_count": 25,
   "id": "b7bd0acf",
   "metadata": {},
   "outputs": [
    {
     "data": {
      "image/png": "[encoded data removed]",
      "text/plain": [
       "<Figure size 432x288 with 2 Axes>"
      ]
     },
     "metadata": {
      "needs_background": "light"
     },
     "output_type": "display_data"
    }
   ],
   "source": [
    "import seaborn as sns\n",
    "import matplotlib.pyplot as plt \n",
    " \n",
    "# load the tips dataset\n",
    "dataset = confusion_matrix(Y_train, prediction)\n",
    "sns.heatmap(dataset, annot = True,\n",
    "          cmap=\"RdBu_r\")\n",
    "plt.show()"
   ]
  },
  {
   "cell_type": "code",
   "execution_count": 26,
   "id": "23048347",
   "metadata": {},
   "outputs": [],
   "source": [
    "feature = cve['cvss']\n",
    "target = cve['impact_integrity']\n",
    "\n",
    "X_train, X_test, Y_train, Y_test = train_test_split(feature, target, test_size =.2, random_state=100)\n",
    "X_train = X_train.values.reshape(-1,1)\n",
    "Y_train = Y_train.values.reshape(-1,1)"
   ]
  },
  {
   "cell_type": "code",
   "execution_count": 27,
   "id": "df73c72b",
   "metadata": {},
   "outputs": [
    {
     "name": "stdout",
     "output_type": "stream",
     "text": [
      "Accuracy score is 0.67\n",
      "              precision    recall  f1-score   support\n",
      "\n",
      "           0       0.55      0.22      0.32     20469\n",
      "           1       0.63      0.90      0.74     37083\n",
      "           2       0.99      0.72      0.83     13468\n",
      "\n",
      "    accuracy                           0.67     71020\n",
      "   macro avg       0.72      0.61      0.63     71020\n",
      "weighted avg       0.67      0.67      0.63     71020\n",
      "\n",
      "[[ 4599 15839    31]\n",
      " [ 3775 33210    98]\n",
      " [    1  3823  9644]]\n"
     ]
    }
   ],
   "source": [
    "LR =LogisticRegression(random_state=100)\n",
    "LR.fit(X_train,Y_train)\n",
    "prediction = LR.predict(X_train)\n",
    "\n",
    "print(f\"Accuracy score is {accuracy_score(Y_train, prediction):.2f}\")\n",
    "print(classification_report(Y_train, prediction))\n",
    "\n",
    "from sklearn.metrics import confusion_matrix\n",
    "print(confusion_matrix(Y_train, prediction))\n"
   ]
  },
  {
   "cell_type": "code",
   "execution_count": 29,
   "id": "240285bc",
   "metadata": {},
   "outputs": [
    {
     "data": {
      "image/png": "[encoded data removed]",
      "text/plain": [
       "<Figure size 432x288 with 2 Axes>"
      ]
     },
     "metadata": {
      "needs_background": "light"
     },
     "output_type": "display_data"
    }
   ],
   "source": [
    "# load the tips dataset\n",
    "dataset = confusion_matrix(Y_train, prediction)\n",
    "sns.heatmap(dataset, annot = True,\n",
    "          cmap=\"Greys_r\")\n",
    "plt.show()"
   ]
  },
  {
   "cell_type": "markdown",
   "id": "a1219ee7",
   "metadata": {},
   "source": [
    "conclusion: \n",
    "Interestingly there seems to be a relatively strong correlation between the cvss and the impact on the availability, confidentiality or integrity (in this order)"
   ]
  },
  {
   "cell_type": "code",
   "execution_count": null,
   "id": "ce87b195",
   "metadata": {},
   "outputs": [],
   "source": []
  }
 ],
 "metadata": {
  "kernelspec": {
   "display_name": "Python 3",
   "language": "python",
   "name": "python3"
  },
  "language_info": {
   "codemirror_mode": {
    "name": "ipython",
    "version": 3
   },
   "file_extension": ".py",
   "mimetype": "text/x-python",
   "name": "python",
   "nbconvert_exporter": "python",
   "pygments_lexer": "ipython3",
   "version": "3.8.8"
  }
 },
 "nbformat": 4,
 "nbformat_minor": 5
}
